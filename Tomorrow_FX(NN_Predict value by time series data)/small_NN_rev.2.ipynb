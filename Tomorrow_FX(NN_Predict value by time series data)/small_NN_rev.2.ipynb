{
 "cells": [
  {
   "cell_type": "markdown",
   "metadata": {},
   "source": [
    "This is a tutorial of exchange rate $-¥ prediction by machine learning (NN).\n",
    "Interestingly, usually this type of time series data's prediction is good at RNN, but normal type of NN also good in this tutorial.\n",
    "\n",
    "[Original Tutorial](http://www.algo-fx-blog.com/tensorflow-neural-network-fx/)"
   ]
  },
  {
   "cell_type": "code",
   "execution_count": 590,
   "metadata": {},
   "outputs": [],
   "source": [
    "import pandas as pd\n",
    "import numpy as np\n",
    "import matplotlib.pyplot as plt\n",
    "from sklearn.preprocessing import MinMaxScaler\n",
    "from sklearn.metrics import mean_absolute_error\n",
    "import tensorflow as tf"
   ]
  },
  {
   "cell_type": "markdown",
   "metadata": {},
   "source": [
    "#Prepare Dataset"
   ]
  },
  {
   "cell_type": "code",
   "execution_count": 591,
   "metadata": {},
   "outputs": [],
   "source": [
    "df = pd.read_csv(\"usd_jpy_api.csv\")"
   ]
  },
  {
   "cell_type": "code",
   "execution_count": 592,
   "metadata": {},
   "outputs": [
    {
     "data": {
      "text/html": [
       "<div>\n",
       "<style scoped>\n",
       "    .dataframe tbody tr th:only-of-type {\n",
       "        vertical-align: middle;\n",
       "    }\n",
       "\n",
       "    .dataframe tbody tr th {\n",
       "        vertical-align: top;\n",
       "    }\n",
       "\n",
       "    .dataframe thead th {\n",
       "        text-align: right;\n",
       "    }\n",
       "</style>\n",
       "<table border=\"1\" class=\"dataframe\">\n",
       "  <thead>\n",
       "    <tr style=\"text-align: right;\">\n",
       "      <th></th>\n",
       "      <th>time</th>\n",
       "      <th>close</th>\n",
       "      <th>open</th>\n",
       "      <th>high</th>\n",
       "      <th>low</th>\n",
       "      <th>volume</th>\n",
       "    </tr>\n",
       "  </thead>\n",
       "  <tbody>\n",
       "    <tr>\n",
       "      <th>0</th>\n",
       "      <td>2016/08/19 06:00:00</td>\n",
       "      <td>100.256</td>\n",
       "      <td>99.919</td>\n",
       "      <td>100.471</td>\n",
       "      <td>99.887</td>\n",
       "      <td>30965</td>\n",
       "    </tr>\n",
       "    <tr>\n",
       "      <th>1</th>\n",
       "      <td>2016/08/22 06:00:00</td>\n",
       "      <td>100.335</td>\n",
       "      <td>100.832</td>\n",
       "      <td>100.944</td>\n",
       "      <td>100.221</td>\n",
       "      <td>32920</td>\n",
       "    </tr>\n",
       "    <tr>\n",
       "      <th>2</th>\n",
       "      <td>2016/08/23 06:00:00</td>\n",
       "      <td>100.253</td>\n",
       "      <td>100.339</td>\n",
       "      <td>100.405</td>\n",
       "      <td>99.950</td>\n",
       "      <td>26069</td>\n",
       "    </tr>\n",
       "    <tr>\n",
       "      <th>3</th>\n",
       "      <td>2016/08/24 06:00:00</td>\n",
       "      <td>100.460</td>\n",
       "      <td>100.270</td>\n",
       "      <td>100.619</td>\n",
       "      <td>100.104</td>\n",
       "      <td>22340</td>\n",
       "    </tr>\n",
       "    <tr>\n",
       "      <th>4</th>\n",
       "      <td>2016/08/25 06:00:00</td>\n",
       "      <td>100.546</td>\n",
       "      <td>100.464</td>\n",
       "      <td>100.627</td>\n",
       "      <td>100.314</td>\n",
       "      <td>17224</td>\n",
       "    </tr>\n",
       "  </tbody>\n",
       "</table>\n",
       "</div>"
      ],
      "text/plain": [
       "                  time    close     open     high      low  volume\n",
       "0  2016/08/19 06:00:00  100.256   99.919  100.471   99.887   30965\n",
       "1  2016/08/22 06:00:00  100.335  100.832  100.944  100.221   32920\n",
       "2  2016/08/23 06:00:00  100.253  100.339  100.405   99.950   26069\n",
       "3  2016/08/24 06:00:00  100.460  100.270  100.619  100.104   22340\n",
       "4  2016/08/25 06:00:00  100.546  100.464  100.627  100.314   17224"
      ]
     },
     "execution_count": 592,
     "metadata": {},
     "output_type": "execute_result"
    }
   ],
   "source": [
    "df.head()"
   ]
  },
  {
   "cell_type": "code",
   "execution_count": 593,
   "metadata": {},
   "outputs": [
    {
     "data": {
      "text/html": [
       "<div>\n",
       "<style scoped>\n",
       "    .dataframe tbody tr th:only-of-type {\n",
       "        vertical-align: middle;\n",
       "    }\n",
       "\n",
       "    .dataframe tbody tr th {\n",
       "        vertical-align: top;\n",
       "    }\n",
       "\n",
       "    .dataframe thead th {\n",
       "        text-align: right;\n",
       "    }\n",
       "</style>\n",
       "<table border=\"1\" class=\"dataframe\">\n",
       "  <thead>\n",
       "    <tr style=\"text-align: right;\">\n",
       "      <th></th>\n",
       "      <th>time</th>\n",
       "      <th>close</th>\n",
       "      <th>open</th>\n",
       "      <th>high</th>\n",
       "      <th>low</th>\n",
       "      <th>volume</th>\n",
       "    </tr>\n",
       "  </thead>\n",
       "  <tbody>\n",
       "    <tr>\n",
       "      <th>495</th>\n",
       "      <td>2018/07/17 06:00:00</td>\n",
       "      <td>112.908</td>\n",
       "      <td>112.320</td>\n",
       "      <td>112.933</td>\n",
       "      <td>112.231</td>\n",
       "      <td>19645</td>\n",
       "    </tr>\n",
       "    <tr>\n",
       "      <th>496</th>\n",
       "      <td>2018/07/18 06:00:00</td>\n",
       "      <td>112.866</td>\n",
       "      <td>112.914</td>\n",
       "      <td>113.144</td>\n",
       "      <td>112.723</td>\n",
       "      <td>17432</td>\n",
       "    </tr>\n",
       "    <tr>\n",
       "      <th>497</th>\n",
       "      <td>2018/07/19 06:00:00</td>\n",
       "      <td>112.501</td>\n",
       "      <td>112.887</td>\n",
       "      <td>113.187</td>\n",
       "      <td>112.072</td>\n",
       "      <td>26697</td>\n",
       "    </tr>\n",
       "    <tr>\n",
       "      <th>498</th>\n",
       "      <td>2018/07/20 06:00:00</td>\n",
       "      <td>111.474</td>\n",
       "      <td>112.504</td>\n",
       "      <td>112.631</td>\n",
       "      <td>111.401</td>\n",
       "      <td>33445</td>\n",
       "    </tr>\n",
       "    <tr>\n",
       "      <th>499</th>\n",
       "      <td>2018/07/23 06:00:00</td>\n",
       "      <td>111.164</td>\n",
       "      <td>111.420</td>\n",
       "      <td>111.523</td>\n",
       "      <td>110.760</td>\n",
       "      <td>16040</td>\n",
       "    </tr>\n",
       "  </tbody>\n",
       "</table>\n",
       "</div>"
      ],
      "text/plain": [
       "                    time    close     open     high      low  volume\n",
       "495  2018/07/17 06:00:00  112.908  112.320  112.933  112.231   19645\n",
       "496  2018/07/18 06:00:00  112.866  112.914  113.144  112.723   17432\n",
       "497  2018/07/19 06:00:00  112.501  112.887  113.187  112.072   26697\n",
       "498  2018/07/20 06:00:00  111.474  112.504  112.631  111.401   33445\n",
       "499  2018/07/23 06:00:00  111.164  111.420  111.523  110.760   16040"
      ]
     },
     "execution_count": 593,
     "metadata": {},
     "output_type": "execute_result"
    }
   ],
   "source": [
    "df.tail()"
   ]
  },
  {
   "cell_type": "markdown",
   "metadata": {},
   "source": [
    "The goal of this tutorial is predict latest close value (499 row).\n",
    "So little bit shift data."
   ]
  },
  {
   "cell_type": "code",
   "execution_count": 594,
   "metadata": {},
   "outputs": [
    {
     "data": {
      "text/html": [
       "<div>\n",
       "<style scoped>\n",
       "    .dataframe tbody tr th:only-of-type {\n",
       "        vertical-align: middle;\n",
       "    }\n",
       "\n",
       "    .dataframe tbody tr th {\n",
       "        vertical-align: top;\n",
       "    }\n",
       "\n",
       "    .dataframe thead th {\n",
       "        text-align: right;\n",
       "    }\n",
       "</style>\n",
       "<table border=\"1\" class=\"dataframe\">\n",
       "  <thead>\n",
       "    <tr style=\"text-align: right;\">\n",
       "      <th></th>\n",
       "      <th>time</th>\n",
       "      <th>close</th>\n",
       "      <th>open</th>\n",
       "      <th>high</th>\n",
       "      <th>low</th>\n",
       "      <th>volume</th>\n",
       "    </tr>\n",
       "  </thead>\n",
       "  <tbody>\n",
       "    <tr>\n",
       "      <th>495</th>\n",
       "      <td>2018/07/17 06:00:00</td>\n",
       "      <td>112.866</td>\n",
       "      <td>112.320</td>\n",
       "      <td>112.933</td>\n",
       "      <td>112.231</td>\n",
       "      <td>19645</td>\n",
       "    </tr>\n",
       "    <tr>\n",
       "      <th>496</th>\n",
       "      <td>2018/07/18 06:00:00</td>\n",
       "      <td>112.501</td>\n",
       "      <td>112.914</td>\n",
       "      <td>113.144</td>\n",
       "      <td>112.723</td>\n",
       "      <td>17432</td>\n",
       "    </tr>\n",
       "    <tr>\n",
       "      <th>497</th>\n",
       "      <td>2018/07/19 06:00:00</td>\n",
       "      <td>111.474</td>\n",
       "      <td>112.887</td>\n",
       "      <td>113.187</td>\n",
       "      <td>112.072</td>\n",
       "      <td>26697</td>\n",
       "    </tr>\n",
       "    <tr>\n",
       "      <th>498</th>\n",
       "      <td>2018/07/20 06:00:00</td>\n",
       "      <td>111.164</td>\n",
       "      <td>112.504</td>\n",
       "      <td>112.631</td>\n",
       "      <td>111.401</td>\n",
       "      <td>33445</td>\n",
       "    </tr>\n",
       "    <tr>\n",
       "      <th>499</th>\n",
       "      <td>2018/07/23 06:00:00</td>\n",
       "      <td>NaN</td>\n",
       "      <td>111.420</td>\n",
       "      <td>111.523</td>\n",
       "      <td>110.760</td>\n",
       "      <td>16040</td>\n",
       "    </tr>\n",
       "  </tbody>\n",
       "</table>\n",
       "</div>"
      ],
      "text/plain": [
       "                    time    close     open     high      low  volume\n",
       "495  2018/07/17 06:00:00  112.866  112.320  112.933  112.231   19645\n",
       "496  2018/07/18 06:00:00  112.501  112.914  113.144  112.723   17432\n",
       "497  2018/07/19 06:00:00  111.474  112.887  113.187  112.072   26697\n",
       "498  2018/07/20 06:00:00  111.164  112.504  112.631  111.401   33445\n",
       "499  2018/07/23 06:00:00      NaN  111.420  111.523  110.760   16040"
      ]
     },
     "execution_count": 594,
     "metadata": {},
     "output_type": "execute_result"
    }
   ],
   "source": [
    "df_shift =df.copy()\n",
    "df_shift.close = df_shift.close.shift(-1)\n",
    "\n",
    "#Check\n",
    "df_shift.tail()"
   ]
  },
  {
   "cell_type": "code",
   "execution_count": 595,
   "metadata": {},
   "outputs": [
    {
     "name": "stdout",
     "output_type": "stream",
     "text": [
      "(499, 5)\n"
     ]
    }
   ],
   "source": [
    "#remove 499 row\n",
    "df_2 = df_shift[:-1]\n",
    "#delete time column\n",
    "del df_2[\"time\"]\n",
    "\n",
    "print(df_2.shape)"
   ]
  },
  {
   "cell_type": "code",
   "execution_count": 596,
   "metadata": {},
   "outputs": [
    {
     "data": {
      "text/plain": [
       "(99, 5)"
      ]
     },
     "execution_count": 596,
     "metadata": {},
     "output_type": "execute_result"
    }
   ],
   "source": [
    "#Store the shape of dataset\n",
    "n = df_2.shape[0]\n",
    "p = df_2.shape[1]\n",
    "\n",
    "#devide dataset  7:3\n",
    "train_start = 0\n",
    "train_end=int(np.floor(0.8*n))\n",
    "test_start=train_end +1\n",
    "test_end =n\n",
    "\n",
    "#do not shaffle because this is a time series data\n",
    "df_train=df_2.loc[np.arange(train_start, train_end), :]\n",
    "df_test=df_2.loc[np.arange(test_start, test_end), :]\n",
    "\n",
    "#check\n",
    "df_test[96:99]\n",
    "df_train.shape\n",
    "df_test.shape"
   ]
  },
  {
   "cell_type": "code",
   "execution_count": 597,
   "metadata": {},
   "outputs": [],
   "source": [
    "#scaling data\n",
    "scaler = MinMaxScaler(feature_range=(-1, 1))\n",
    "scaler.fit(df_train)\n",
    "df_train_scaled =scaler.transform(df_train)\n",
    "df_test_scaled =scaler.transform(df_test)"
   ]
  },
  {
   "cell_type": "code",
   "execution_count": 598,
   "metadata": {},
   "outputs": [],
   "source": [
    "#devide x and y\n",
    "x_train=df_train_scaled[:,1:]\n",
    "y_train=df_train_scaled[:, 0]\n",
    "x_test=df_test_scaled[:,1:]\n",
    "y_test=df_test_scaled[:, 0]"
   ]
  },
  {
   "cell_type": "markdown",
   "metadata": {},
   "source": [
    "#Build Neural Network"
   ]
  },
  {
   "cell_type": "code",
   "execution_count": 619,
   "metadata": {},
   "outputs": [
    {
     "name": "stderr",
     "output_type": "stream",
     "text": [
      "/Users/hasegawatooru/anaconda3/envs/kaggle/lib/python3.6/site-packages/tensorflow/python/client/session.py:1702: UserWarning: An interactive session is already active. This can cause out-of-memory errors in some cases. You must explicitly call `InteractiveSession.close()` to release resources held by the other session(s).\n",
      "  warnings.warn('An interactive session is already active. This can '\n"
     ]
    }
   ],
   "source": [
    "n_train = x_train.shape[1]\n",
    "\n",
    "#set 3 hidden layer NN stracture\n",
    "n_nn_1 = 258\n",
    "n_nn_2 =64\n",
    "n_nn_3=32\n",
    "n_nn_4=4\n",
    "\n",
    "net=tf.InteractiveSession()\n",
    "\n",
    "x = tf.placeholder(dtype=tf.float32, shape=[None, n_train])\n",
    "y = tf.placeholder(dtype=tf.float32, shape=[None])\n",
    "\n",
    "#initialize\n",
    "sigma=1\n",
    "w_initializer = tf.variance_scaling_initializer(mode=\"fan_avg\", distribution=\"uniform\", scale=sigma, seed=0)\n",
    "b_initializer = tf.zeros_initializer()"
   ]
  },
  {
   "cell_type": "code",
   "execution_count": 600,
   "metadata": {},
   "outputs": [],
   "source": [
    "w_hidden_1 =tf.Variable(w_initializer([n_train, n_nn_1]))\n",
    "b_hidden_1=tf.Variable(b_initializer([n_nn_1]))\n",
    "w_hidden_2 =tf.Variable(w_initializer([n_nn_1, n_nn_2]))\n",
    "b_hidden_2=tf.Variable(b_initializer([n_nn_2]))\n",
    "w_hidden_3 =tf.Variable(w_initializer([n_nn_2, n_nn_3]))\n",
    "b_hidden_3=tf.Variable(b_initializer([n_nn_3]))\n",
    "w_hidden_4 =tf.Variable(w_initializer([n_nn_3, n_nn_4]))\n",
    "b_hidden_4=tf.Variable(b_initializer([n_nn_4]))"
   ]
  },
  {
   "cell_type": "code",
   "execution_count": 601,
   "metadata": {},
   "outputs": [],
   "source": [
    "#set activation function\n",
    "hidden_1 =tf.nn.relu(tf.add(tf.matmul(x, w_hidden_1), b_hidden_1))\n",
    "hidden_2=tf.nn.relu(tf.add(tf.matmul(hidden_1, w_hidden_2), b_hidden_2))\n",
    "hidden_3=tf.nn.relu(tf.add(tf.matmul(hidden_2, w_hidden_3), b_hidden_3))\n",
    "hidden_4=tf.nn.relu(tf.add(tf.matmul(hidden_3, w_hidden_4), b_hidden_4))"
   ]
  },
  {
   "cell_type": "code",
   "execution_count": 602,
   "metadata": {},
   "outputs": [],
   "source": [
    "#build output layer\n",
    "w_out = tf.Variable(w_initializer([n_nn_4, 1]))\n",
    "b_out = tf.Variable(b_initializer([1]))\n",
    "\n",
    "#set output. scaling data transform original value.\n",
    "out=tf.transpose(tf.add(tf.matmul(hidden_4, w_out), b_out))"
   ]
  },
  {
   "cell_type": "code",
   "execution_count": 603,
   "metadata": {},
   "outputs": [],
   "source": [
    "#define cost function\n",
    "cost=tf.reduce_mean(tf.squared_difference(out, y))\n",
    "\n",
    "#set optimizor\n",
    "opt = tf.train.AdamOptimizer(0.002).minimize(cost)\n",
    "\n",
    "#initialize\n",
    "net.run(tf.global_variables_initializer())"
   ]
  },
  {
   "cell_type": "markdown",
   "metadata": {},
   "source": [
    "Training NN"
   ]
  },
  {
   "cell_type": "code",
   "execution_count": 618,
   "metadata": {},
   "outputs": [
    {
     "name": "stdout",
     "output_type": "stream",
     "text": [
      "i:0 \n",
      "              tr_loss:0.004467617720365524\n",
      "              tes_loss:0.0031404001638293266 \n",
      "i:25 \n",
      "              tr_loss:0.004425217397511005\n",
      "              tes_loss:0.0031573940068483353 \n",
      "i:50 \n",
      "              tr_loss:0.0043830256909132\n",
      "              tes_loss:0.0030648389365524054 \n",
      "i:75 \n",
      "              tr_loss:0.004346985835582018\n",
      "              tes_loss:0.0030649767722934484 \n",
      "i:100 \n",
      "              tr_loss:0.0043489704839885235\n",
      "              tes_loss:0.0029978209640830755 \n",
      "i:125 \n",
      "              tr_loss:0.004275677725672722\n",
      "              tes_loss:0.0031114909797906876 \n",
      "i:150 \n",
      "              tr_loss:0.004243556410074234\n",
      "              tes_loss:0.0030535049736499786 \n",
      "i:175 \n",
      "              tr_loss:0.0042144604958593845\n",
      "              tes_loss:0.0030379637610167265 \n",
      "i:200 \n",
      "              tr_loss:0.00418242858722806\n",
      "              tes_loss:0.003158931154757738 \n",
      "i:225 \n",
      "              tr_loss:0.0041699944995343685\n",
      "              tes_loss:0.003047271864488721 \n",
      "i:250 \n",
      "              tr_loss:0.004214822314679623\n",
      "              tes_loss:0.0030147023499011993 \n",
      "i:275 \n",
      "              tr_loss:0.004122591111809015\n",
      "              tes_loss:0.0030503752641379833 \n",
      "i:300 \n",
      "              tr_loss:0.0040992856957018375\n",
      "              tes_loss:0.0032531621400266886 \n",
      "i:325 \n",
      "              tr_loss:0.004089192021638155\n",
      "              tes_loss:0.0029686917550861835 \n",
      "i:350 \n",
      "              tr_loss:0.0039872839115560055\n",
      "              tes_loss:0.003079927060753107 \n",
      "i:375 \n",
      "              tr_loss:0.003992065787315369\n",
      "              tes_loss:0.0031926848459988832 \n",
      "i:400 \n",
      "              tr_loss:0.003949347883462906\n",
      "              tes_loss:0.0030775100458413363 \n",
      "i:425 \n",
      "              tr_loss:0.004166978877037764\n",
      "              tes_loss:0.0035609398037195206 \n",
      "i:450 \n",
      "              tr_loss:0.0038844316732138395\n",
      "              tes_loss:0.0032337952870875597 \n",
      "i:475 \n",
      "              tr_loss:0.003820595098659396\n",
      "              tes_loss:0.0032651808578521013 \n"
     ]
    }
   ],
   "source": [
    "batch_size = 32\n",
    "cost_train=[]\n",
    "cost_test=[]\n",
    "\n",
    "epochs =500\n",
    "for i in range(epochs):\n",
    "    sff_idx =np.random.permutation(n_train)\n",
    "    for idx in range(0, n_train, batch_size):\n",
    "        batch_x = x_train[sff_idx[idx:idx+batch_size\n",
    "                                 if idx + batch_size < n_train else n_train]]\n",
    "        batch_y = y_train[sff_idx[idx:idx+batch_size\n",
    "                                 if idx + batch_size < n_train else n_train]]\n",
    "    net.run(opt, feed_dict={x:x_train, y:y_train})\n",
    "    \n",
    "    if i % 25 == 0:\n",
    "      train_loss = net.run(cost, feed_dict = {x: x_train, y: y_train})\n",
    "     # train_acc = net.run(acc, feed_dict = {X: train_x, t: train_t})\n",
    "      test_loss = net.run(cost, feed_dict = {x: x_test, y: y_test})\n",
    "      #test_acc = net.run(acc, feed_dict = {X: test_x, t: test_t}) \n",
    "      print('i:{} \\n \\\n",
    "             tr_loss:{}\\n \\\n",
    "             tes_loss:{} '.format(i,\n",
    "                                train_loss,\n",
    "                                test_loss))"
   ]
  },
  {
   "cell_type": "markdown",
   "metadata": {},
   "source": [
    "#Predict tomorrow exchange rate"
   ]
  },
  {
   "cell_type": "code",
   "execution_count": 605,
   "metadata": {},
   "outputs": [
    {
     "name": "stdout",
     "output_type": "stream",
     "text": [
      "[-0.32974985 -0.36893794 -0.33551902 -0.25524724 -0.2874201 ]\n"
     ]
    }
   ],
   "source": [
    "pred_test=net.run(out, feed_dict={x:x_test})\n",
    "\n",
    "print(pred_test[0][0:5])"
   ]
  },
  {
   "cell_type": "code",
   "execution_count": 606,
   "metadata": {},
   "outputs": [],
   "source": [
    "#back to the actual number\n",
    "pred_test=np.concatenate((pred_test.T, x_test), axis=1)\n",
    "pred_test_inv = scaler.inverse_transform(pred_test)"
   ]
  },
  {
   "cell_type": "code",
   "execution_count": 607,
   "metadata": {},
   "outputs": [
    {
     "data": {
      "text/html": [
       "<div>\n",
       "<style scoped>\n",
       "    .dataframe tbody tr th:only-of-type {\n",
       "        vertical-align: middle;\n",
       "    }\n",
       "\n",
       "    .dataframe tbody tr th {\n",
       "        vertical-align: top;\n",
       "    }\n",
       "\n",
       "    .dataframe thead th {\n",
       "        text-align: right;\n",
       "    }\n",
       "</style>\n",
       "<table border=\"1\" class=\"dataframe\">\n",
       "  <thead>\n",
       "    <tr style=\"text-align: right;\">\n",
       "      <th></th>\n",
       "      <th>time</th>\n",
       "      <th>close</th>\n",
       "      <th>open</th>\n",
       "      <th>high</th>\n",
       "      <th>low</th>\n",
       "      <th>volume</th>\n",
       "    </tr>\n",
       "  </thead>\n",
       "  <tbody>\n",
       "    <tr>\n",
       "      <th>499</th>\n",
       "      <td>2018/07/23 06:00:00</td>\n",
       "      <td>NaN</td>\n",
       "      <td>111.42</td>\n",
       "      <td>111.523</td>\n",
       "      <td>110.76</td>\n",
       "      <td>16040</td>\n",
       "    </tr>\n",
       "  </tbody>\n",
       "</table>\n",
       "</div>"
      ],
      "text/plain": [
       "                    time  close    open     high     low  volume\n",
       "499  2018/07/23 06:00:00    NaN  111.42  111.523  110.76   16040"
      ]
     },
     "execution_count": 607,
     "metadata": {},
     "output_type": "execute_result"
    }
   ],
   "source": [
    "df_shift.tail(1)"
   ]
  },
  {
   "cell_type": "code",
   "execution_count": 608,
   "metadata": {},
   "outputs": [
    {
     "name": "stdout",
     "output_type": "stream",
     "text": [
      "[  111.164   112.504   112.631   111.401 33445.   ]\n",
      "[  111.97115152   112.504        112.631        111.401\n",
      " 33445.        ]\n"
     ]
    }
   ],
   "source": [
    "print(df_test.values[98])\n",
    "print(pred_test_inv[98])"
   ]
  },
  {
   "cell_type": "markdown",
   "metadata": {},
   "source": [
    "It looks no good.\n",
    "But this NN can predict future value!\n",
    "\n",
    "Lastly, let's check the accuracy of prediction."
   ]
  },
  {
   "cell_type": "code",
   "execution_count": 609,
   "metadata": {},
   "outputs": [
    {
     "data": {
      "image/png": "[encoded data removed]",
      "text/plain": [
       "<Figure size 432x288 with 1 Axes>"
      ]
     },
     "metadata": {
      "needs_background": "light"
     },
     "output_type": "display_data"
    }
   ],
   "source": [
    "plt.ion()\n",
    "fig=plt.figure()\n",
    "ax1=fig.add_subplot(111)\n",
    "line1, =ax1.plot(df_test.values[:,0])\n",
    "line2, =ax1.plot(pred_test_inv[:,0])\n",
    "plt.legend([\"test\", \"predict\"])\n",
    "plt.show()"
   ]
  },
  {
   "cell_type": "code",
   "execution_count": 610,
   "metadata": {},
   "outputs": [
    {
     "name": "stdout",
     "output_type": "stream",
     "text": [
      "0.07978474223882862\n"
     ]
    }
   ],
   "source": [
    "#Check error level\n",
    "MAE_test = mean_absolute_error(df_test, pred_test_inv)\n",
    "print(MAE_test)"
   ]
  },
  {
   "cell_type": "code",
   "execution_count": 623,
   "metadata": {},
   "outputs": [
    {
     "ename": "AttributeError",
     "evalue": "'Tensor' object has no attribute 'head'",
     "output_type": "error",
     "traceback": [
      "\u001b[0;31m---------------------------------------------------------------------------\u001b[0m",
      "\u001b[0;31mAttributeError\u001b[0m                            Traceback (most recent call last)",
      "\u001b[0;32m<ipython-input-623-1cb3d4402446>\u001b[0m in \u001b[0;36m<module>\u001b[0;34m\u001b[0m\n\u001b[0;32m----> 1\u001b[0;31m \u001b[0mhidden_4\u001b[0m\u001b[0;34m.\u001b[0m\u001b[0mhead\u001b[0m\u001b[0;34m(\u001b[0m\u001b[0;34m)\u001b[0m\u001b[0;34m\u001b[0m\u001b[0;34m\u001b[0m\u001b[0m\n\u001b[0m",
      "\u001b[0;31mAttributeError\u001b[0m: 'Tensor' object has no attribute 'head'"
     ]
    }
   ],
   "source": []
  },
  {
   "cell_type": "code",
   "execution_count": null,
   "metadata": {},
   "outputs": [],
   "source": []
  }
 ],
 "metadata": {
  "kernelspec": {
   "display_name": "Python 3",
   "language": "python",
   "name": "python3"
  },
  "language_info": {
   "codemirror_mode": {
    "name": "ipython",
    "version": 3
   },
   "file_extension": ".py",
   "mimetype": "text/x-python",
   "name": "python",
   "nbconvert_exporter": "python",
   "pygments_lexer": "ipython3",
   "version": "3.6.8"
  }
 },
 "nbformat": 4,
 "nbformat_minor": 2
}
