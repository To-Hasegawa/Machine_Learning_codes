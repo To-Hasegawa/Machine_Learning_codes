{
 "cells": [
  {
   "cell_type": "markdown",
   "metadata": {},
   "source": [
    "This is a tutorial of exchange rate $-¥ prediction by machine learning (NN).\n",
    "Interestingly, usually this type of time series data's prediction is good at RNN, but normal type of NN also good in this tutorial.\n",
    "\n",
    "[Original Tutorial](http://www.algo-fx-blog.com/tensorflow-neural-network-fx/)"
   ]
  },
  {
   "cell_type": "code",
   "execution_count": 1,
   "metadata": {},
   "outputs": [],
   "source": [
    "import pandas as pd\n",
    "import numpy as np\n",
    "import matplotlib.pyplot as plt\n",
    "from sklearn.preprocessing import MinMaxScaler\n",
    "from sklearn.metrics import mean_absolute_error\n",
    "import tensorflow as tf"
   ]
  },
  {
   "cell_type": "markdown",
   "metadata": {},
   "source": [
    "#Prepare Dataset"
   ]
  },
  {
   "cell_type": "code",
   "execution_count": 2,
   "metadata": {},
   "outputs": [],
   "source": [
    "df = pd.read_csv(\"usd_jpy_api.csv\")"
   ]
  },
  {
   "cell_type": "code",
   "execution_count": 3,
   "metadata": {},
   "outputs": [
    {
     "data": {
      "text/html": [
       "<div>\n",
       "<style scoped>\n",
       "    .dataframe tbody tr th:only-of-type {\n",
       "        vertical-align: middle;\n",
       "    }\n",
       "\n",
       "    .dataframe tbody tr th {\n",
       "        vertical-align: top;\n",
       "    }\n",
       "\n",
       "    .dataframe thead th {\n",
       "        text-align: right;\n",
       "    }\n",
       "</style>\n",
       "<table border=\"1\" class=\"dataframe\">\n",
       "  <thead>\n",
       "    <tr style=\"text-align: right;\">\n",
       "      <th></th>\n",
       "      <th>time</th>\n",
       "      <th>close</th>\n",
       "      <th>open</th>\n",
       "      <th>high</th>\n",
       "      <th>low</th>\n",
       "      <th>volume</th>\n",
       "    </tr>\n",
       "  </thead>\n",
       "  <tbody>\n",
       "    <tr>\n",
       "      <th>0</th>\n",
       "      <td>2016/08/19 06:00:00</td>\n",
       "      <td>100.256</td>\n",
       "      <td>99.919</td>\n",
       "      <td>100.471</td>\n",
       "      <td>99.887</td>\n",
       "      <td>30965</td>\n",
       "    </tr>\n",
       "    <tr>\n",
       "      <th>1</th>\n",
       "      <td>2016/08/22 06:00:00</td>\n",
       "      <td>100.335</td>\n",
       "      <td>100.832</td>\n",
       "      <td>100.944</td>\n",
       "      <td>100.221</td>\n",
       "      <td>32920</td>\n",
       "    </tr>\n",
       "    <tr>\n",
       "      <th>2</th>\n",
       "      <td>2016/08/23 06:00:00</td>\n",
       "      <td>100.253</td>\n",
       "      <td>100.339</td>\n",
       "      <td>100.405</td>\n",
       "      <td>99.950</td>\n",
       "      <td>26069</td>\n",
       "    </tr>\n",
       "    <tr>\n",
       "      <th>3</th>\n",
       "      <td>2016/08/24 06:00:00</td>\n",
       "      <td>100.460</td>\n",
       "      <td>100.270</td>\n",
       "      <td>100.619</td>\n",
       "      <td>100.104</td>\n",
       "      <td>22340</td>\n",
       "    </tr>\n",
       "    <tr>\n",
       "      <th>4</th>\n",
       "      <td>2016/08/25 06:00:00</td>\n",
       "      <td>100.546</td>\n",
       "      <td>100.464</td>\n",
       "      <td>100.627</td>\n",
       "      <td>100.314</td>\n",
       "      <td>17224</td>\n",
       "    </tr>\n",
       "  </tbody>\n",
       "</table>\n",
       "</div>"
      ],
      "text/plain": [
       "                  time    close     open     high      low  volume\n",
       "0  2016/08/19 06:00:00  100.256   99.919  100.471   99.887   30965\n",
       "1  2016/08/22 06:00:00  100.335  100.832  100.944  100.221   32920\n",
       "2  2016/08/23 06:00:00  100.253  100.339  100.405   99.950   26069\n",
       "3  2016/08/24 06:00:00  100.460  100.270  100.619  100.104   22340\n",
       "4  2016/08/25 06:00:00  100.546  100.464  100.627  100.314   17224"
      ]
     },
     "execution_count": 3,
     "metadata": {},
     "output_type": "execute_result"
    }
   ],
   "source": [
    "df.head()"
   ]
  },
  {
   "cell_type": "code",
   "execution_count": 4,
   "metadata": {},
   "outputs": [
    {
     "data": {
      "text/html": [
       "<div>\n",
       "<style scoped>\n",
       "    .dataframe tbody tr th:only-of-type {\n",
       "        vertical-align: middle;\n",
       "    }\n",
       "\n",
       "    .dataframe tbody tr th {\n",
       "        vertical-align: top;\n",
       "    }\n",
       "\n",
       "    .dataframe thead th {\n",
       "        text-align: right;\n",
       "    }\n",
       "</style>\n",
       "<table border=\"1\" class=\"dataframe\">\n",
       "  <thead>\n",
       "    <tr style=\"text-align: right;\">\n",
       "      <th></th>\n",
       "      <th>time</th>\n",
       "      <th>close</th>\n",
       "      <th>open</th>\n",
       "      <th>high</th>\n",
       "      <th>low</th>\n",
       "      <th>volume</th>\n",
       "    </tr>\n",
       "  </thead>\n",
       "  <tbody>\n",
       "    <tr>\n",
       "      <th>495</th>\n",
       "      <td>2018/07/17 06:00:00</td>\n",
       "      <td>112.908</td>\n",
       "      <td>112.320</td>\n",
       "      <td>112.933</td>\n",
       "      <td>112.231</td>\n",
       "      <td>19645</td>\n",
       "    </tr>\n",
       "    <tr>\n",
       "      <th>496</th>\n",
       "      <td>2018/07/18 06:00:00</td>\n",
       "      <td>112.866</td>\n",
       "      <td>112.914</td>\n",
       "      <td>113.144</td>\n",
       "      <td>112.723</td>\n",
       "      <td>17432</td>\n",
       "    </tr>\n",
       "    <tr>\n",
       "      <th>497</th>\n",
       "      <td>2018/07/19 06:00:00</td>\n",
       "      <td>112.501</td>\n",
       "      <td>112.887</td>\n",
       "      <td>113.187</td>\n",
       "      <td>112.072</td>\n",
       "      <td>26697</td>\n",
       "    </tr>\n",
       "    <tr>\n",
       "      <th>498</th>\n",
       "      <td>2018/07/20 06:00:00</td>\n",
       "      <td>111.474</td>\n",
       "      <td>112.504</td>\n",
       "      <td>112.631</td>\n",
       "      <td>111.401</td>\n",
       "      <td>33445</td>\n",
       "    </tr>\n",
       "    <tr>\n",
       "      <th>499</th>\n",
       "      <td>2018/07/23 06:00:00</td>\n",
       "      <td>111.164</td>\n",
       "      <td>111.420</td>\n",
       "      <td>111.523</td>\n",
       "      <td>110.760</td>\n",
       "      <td>16040</td>\n",
       "    </tr>\n",
       "  </tbody>\n",
       "</table>\n",
       "</div>"
      ],
      "text/plain": [
       "                    time    close     open     high      low  volume\n",
       "495  2018/07/17 06:00:00  112.908  112.320  112.933  112.231   19645\n",
       "496  2018/07/18 06:00:00  112.866  112.914  113.144  112.723   17432\n",
       "497  2018/07/19 06:00:00  112.501  112.887  113.187  112.072   26697\n",
       "498  2018/07/20 06:00:00  111.474  112.504  112.631  111.401   33445\n",
       "499  2018/07/23 06:00:00  111.164  111.420  111.523  110.760   16040"
      ]
     },
     "execution_count": 4,
     "metadata": {},
     "output_type": "execute_result"
    }
   ],
   "source": [
    "df.tail()"
   ]
  },
  {
   "cell_type": "markdown",
   "metadata": {},
   "source": [
    "The goal of this tutorial is predict latest close value (499 row).\n",
    "So little bit shift data."
   ]
  },
  {
   "cell_type": "code",
   "execution_count": 5,
   "metadata": {},
   "outputs": [
    {
     "data": {
      "text/html": [
       "<div>\n",
       "<style scoped>\n",
       "    .dataframe tbody tr th:only-of-type {\n",
       "        vertical-align: middle;\n",
       "    }\n",
       "\n",
       "    .dataframe tbody tr th {\n",
       "        vertical-align: top;\n",
       "    }\n",
       "\n",
       "    .dataframe thead th {\n",
       "        text-align: right;\n",
       "    }\n",
       "</style>\n",
       "<table border=\"1\" class=\"dataframe\">\n",
       "  <thead>\n",
       "    <tr style=\"text-align: right;\">\n",
       "      <th></th>\n",
       "      <th>time</th>\n",
       "      <th>close</th>\n",
       "      <th>open</th>\n",
       "      <th>high</th>\n",
       "      <th>low</th>\n",
       "      <th>volume</th>\n",
       "    </tr>\n",
       "  </thead>\n",
       "  <tbody>\n",
       "    <tr>\n",
       "      <th>495</th>\n",
       "      <td>2018/07/17 06:00:00</td>\n",
       "      <td>112.866</td>\n",
       "      <td>112.320</td>\n",
       "      <td>112.933</td>\n",
       "      <td>112.231</td>\n",
       "      <td>19645</td>\n",
       "    </tr>\n",
       "    <tr>\n",
       "      <th>496</th>\n",
       "      <td>2018/07/18 06:00:00</td>\n",
       "      <td>112.501</td>\n",
       "      <td>112.914</td>\n",
       "      <td>113.144</td>\n",
       "      <td>112.723</td>\n",
       "      <td>17432</td>\n",
       "    </tr>\n",
       "    <tr>\n",
       "      <th>497</th>\n",
       "      <td>2018/07/19 06:00:00</td>\n",
       "      <td>111.474</td>\n",
       "      <td>112.887</td>\n",
       "      <td>113.187</td>\n",
       "      <td>112.072</td>\n",
       "      <td>26697</td>\n",
       "    </tr>\n",
       "    <tr>\n",
       "      <th>498</th>\n",
       "      <td>2018/07/20 06:00:00</td>\n",
       "      <td>111.164</td>\n",
       "      <td>112.504</td>\n",
       "      <td>112.631</td>\n",
       "      <td>111.401</td>\n",
       "      <td>33445</td>\n",
       "    </tr>\n",
       "    <tr>\n",
       "      <th>499</th>\n",
       "      <td>2018/07/23 06:00:00</td>\n",
       "      <td>NaN</td>\n",
       "      <td>111.420</td>\n",
       "      <td>111.523</td>\n",
       "      <td>110.760</td>\n",
       "      <td>16040</td>\n",
       "    </tr>\n",
       "  </tbody>\n",
       "</table>\n",
       "</div>"
      ],
      "text/plain": [
       "                    time    close     open     high      low  volume\n",
       "495  2018/07/17 06:00:00  112.866  112.320  112.933  112.231   19645\n",
       "496  2018/07/18 06:00:00  112.501  112.914  113.144  112.723   17432\n",
       "497  2018/07/19 06:00:00  111.474  112.887  113.187  112.072   26697\n",
       "498  2018/07/20 06:00:00  111.164  112.504  112.631  111.401   33445\n",
       "499  2018/07/23 06:00:00      NaN  111.420  111.523  110.760   16040"
      ]
     },
     "execution_count": 5,
     "metadata": {},
     "output_type": "execute_result"
    }
   ],
   "source": [
    "df_shift =df.copy()\n",
    "df_shift.close = df_shift.close.shift(-1)\n",
    "\n",
    "#Check\n",
    "df_shift.tail()"
   ]
  },
  {
   "cell_type": "code",
   "execution_count": 6,
   "metadata": {},
   "outputs": [
    {
     "name": "stdout",
     "output_type": "stream",
     "text": [
      "(499, 5)\n"
     ]
    }
   ],
   "source": [
    "#remove 499 row\n",
    "df_2 = df_shift[:-1]\n",
    "#delete time column\n",
    "del df_2[\"time\"]\n",
    "\n",
    "print(df_2.shape)"
   ]
  },
  {
   "cell_type": "code",
   "execution_count": 7,
   "metadata": {},
   "outputs": [
    {
     "data": {
      "text/plain": [
       "(149, 5)"
      ]
     },
     "execution_count": 7,
     "metadata": {},
     "output_type": "execute_result"
    }
   ],
   "source": [
    "#Store the shape of dataset\n",
    "n = df_2.shape[0]\n",
    "p = df_2.shape[1]\n",
    "\n",
    "#devide dataset  7:3\n",
    "train_start = 0\n",
    "train_end=int(np.floor(0.7*n))\n",
    "test_start=train_end +1\n",
    "test_end =n\n",
    "\n",
    "#do not shaffle because this is a time series data\n",
    "df_train=df_2.loc[np.arange(train_start, train_end), :]\n",
    "df_test=df_2.loc[np.arange(test_start, test_end), :]\n",
    "\n",
    "#check\n",
    "df_test[110:115]\n",
    "df_train.shape\n",
    "df_test.shape"
   ]
  },
  {
   "cell_type": "code",
   "execution_count": 8,
   "metadata": {},
   "outputs": [],
   "source": [
    "#scaling data\n",
    "scaler = MinMaxScaler(feature_range=(-1, 1))\n",
    "scaler.fit(df_train)\n",
    "df_train_scaled =scaler.transform(df_train)\n",
    "df_test_scaled =scaler.transform(df_test)"
   ]
  },
  {
   "cell_type": "code",
   "execution_count": 9,
   "metadata": {},
   "outputs": [],
   "source": [
    "#devide x and y\n",
    "x_train=df_train_scaled[:,1:]\n",
    "y_train=df_train_scaled[:, 0]\n",
    "x_test=df_test_scaled[:,1:]\n",
    "y_test=df_test_scaled[:, 0]"
   ]
  },
  {
   "cell_type": "markdown",
   "metadata": {},
   "source": [
    "#Build Neural Network\n",
    "At first I make 3 layer NN.\n",
    "Hidden layer's shapes are followings,\n",
    "weight _1= (n_train, 256)\n",
    "weight_2= (256, 128)"
   ]
  },
  {
   "cell_type": "code",
   "execution_count": 42,
   "metadata": {},
   "outputs": [
    {
     "name": "stderr",
     "output_type": "stream",
     "text": [
      "/Users/hasegawatooru/anaconda3/envs/kaggle/lib/python3.6/site-packages/tensorflow/python/client/session.py:1702: UserWarning: An interactive session is already active. This can cause out-of-memory errors in some cases. You must explicitly call `InteractiveSession.close()` to release resources held by the other session(s).\n",
      "  warnings.warn('An interactive session is already active. This can '\n"
     ]
    }
   ],
   "source": [
    "n_train = x_train.shape[1]\n",
    "\n",
    "#set 2 hidden layer NN stracture\n",
    "n_nn_1 = 512\n",
    "n_nn_2 =256\n",
    "\n",
    "net=tf.InteractiveSession()\n",
    "\n",
    "x = tf.placeholder(dtype=tf.float32, shape=[None, n_train])\n",
    "y = tf.placeholder(dtype=tf.float32, shape=[None])\n",
    "\n",
    "#initialize\n",
    "sigma=1\n",
    "w_initializer = tf.variance_scaling_initializer(mode=\"fan_avg\", distribution=\"uniform\", scale=sigma)\n",
    "b_initializer = tf.zeros_initializer()"
   ]
  },
  {
   "cell_type": "code",
   "execution_count": 43,
   "metadata": {},
   "outputs": [],
   "source": [
    "w_hidden_1 =tf.Variable(w_initializer([n_train, n_nn_1]))\n",
    "b_hidden_1=tf.Variable(b_initializer([n_nn_1]))\n",
    "w_hidden_2 =tf.Variable(w_initializer([n_nn_1, n_nn_2]))\n",
    "b_hidden_2=tf.Variable(b_initializer([n_nn_2]))"
   ]
  },
  {
   "cell_type": "code",
   "execution_count": 44,
   "metadata": {},
   "outputs": [],
   "source": [
    "#set activation function\n",
    "hidden_1 =tf.nn.relu(tf.add(tf.matmul(x, w_hidden_1), b_hidden_1))\n",
    "hidden_2=tf.nn.relu(tf.add(tf.matmul(hidden_1, w_hidden_2), b_hidden_2))"
   ]
  },
  {
   "cell_type": "code",
   "execution_count": 45,
   "metadata": {},
   "outputs": [],
   "source": [
    "#build output layer\n",
    "w_out = tf.Variable(w_initializer([n_nn_2, 1]))\n",
    "b_out = tf.Variable(b_initializer([1]))\n",
    "\n",
    "#set output. scaling data transform original value.\n",
    "out=tf.transpose(tf.add(tf.matmul(hidden_2, w_out), b_out))"
   ]
  },
  {
   "cell_type": "code",
   "execution_count": 46,
   "metadata": {},
   "outputs": [],
   "source": [
    "#define cost function\n",
    "cost=tf.reduce_mean(tf.squared_difference(out, y))\n",
    "\n",
    "#set optimizor\n",
    "opt = tf.train.AdamOptimizer().minimize(cost)\n",
    "\n",
    "#initialize\n",
    "net.run(tf.global_variables_initializer())"
   ]
  },
  {
   "cell_type": "markdown",
   "metadata": {},
   "source": [
    "Training NN"
   ]
  },
  {
   "cell_type": "code",
   "execution_count": 47,
   "metadata": {},
   "outputs": [],
   "source": [
    "batch_size = 128\n",
    "cost_train=[]\n",
    "cost_test=[]\n",
    "\n",
    "epochs =500\n",
    "for i in range(epochs):\n",
    "    net.run(opt, feed_dict={x:x_train, y:y_train})"
   ]
  },
  {
   "cell_type": "markdown",
   "metadata": {},
   "source": [
    "#Predict tomorrow exchange rate"
   ]
  },
  {
   "cell_type": "code",
   "execution_count": 48,
   "metadata": {},
   "outputs": [
    {
     "name": "stdout",
     "output_type": "stream",
     "text": [
      "[0.44489703 0.43784115 0.441417   0.41282284 0.38623726]\n"
     ]
    }
   ],
   "source": [
    "pred_test=net.run(out, feed_dict={x:x_test})\n",
    "\n",
    "print(pred_test[0][0:5])"
   ]
  },
  {
   "cell_type": "code",
   "execution_count": 49,
   "metadata": {},
   "outputs": [],
   "source": [
    "#back to the actual number\n",
    "pred_test=np.concatenate((pred_test.T, x_test), axis=1)\n",
    "pred_test_inv = scaler.inverse_transform(pred_test)"
   ]
  },
  {
   "cell_type": "code",
   "execution_count": 50,
   "metadata": {},
   "outputs": [
    {
     "data": {
      "text/html": [
       "<div>\n",
       "<style scoped>\n",
       "    .dataframe tbody tr th:only-of-type {\n",
       "        vertical-align: middle;\n",
       "    }\n",
       "\n",
       "    .dataframe tbody tr th {\n",
       "        vertical-align: top;\n",
       "    }\n",
       "\n",
       "    .dataframe thead th {\n",
       "        text-align: right;\n",
       "    }\n",
       "</style>\n",
       "<table border=\"1\" class=\"dataframe\">\n",
       "  <thead>\n",
       "    <tr style=\"text-align: right;\">\n",
       "      <th></th>\n",
       "      <th>time</th>\n",
       "      <th>close</th>\n",
       "      <th>open</th>\n",
       "      <th>high</th>\n",
       "      <th>low</th>\n",
       "      <th>volume</th>\n",
       "    </tr>\n",
       "  </thead>\n",
       "  <tbody>\n",
       "    <tr>\n",
       "      <th>499</th>\n",
       "      <td>2018/07/23 06:00:00</td>\n",
       "      <td>NaN</td>\n",
       "      <td>111.42</td>\n",
       "      <td>111.523</td>\n",
       "      <td>110.76</td>\n",
       "      <td>16040</td>\n",
       "    </tr>\n",
       "  </tbody>\n",
       "</table>\n",
       "</div>"
      ],
      "text/plain": [
       "                    time  close    open     high     low  volume\n",
       "499  2018/07/23 06:00:00    NaN  111.42  111.523  110.76   16040"
      ]
     },
     "execution_count": 50,
     "metadata": {},
     "output_type": "execute_result"
    }
   ],
   "source": [
    "df_shift.tail(1)"
   ]
  },
  {
   "cell_type": "code",
   "execution_count": 51,
   "metadata": {},
   "outputs": [
    {
     "name": "stdout",
     "output_type": "stream",
     "text": [
      "[  111.164   112.504   112.631   111.401 33445.   ]\n",
      "[  112.04618448   112.504        112.631        111.401\n",
      " 33445.        ]\n"
     ]
    }
   ],
   "source": [
    "print(df_test.values[148])\n",
    "print(pred_test_inv[148])"
   ]
  },
  {
   "cell_type": "markdown",
   "metadata": {},
   "source": [
    "It looks no good.\n",
    "But this NN can predict future value!\n",
    "\n",
    "Lastly, let's check the accuracy of prediction."
   ]
  },
  {
   "cell_type": "code",
   "execution_count": 52,
   "metadata": {},
   "outputs": [],
   "source": [
    "from memory_profiler import profile\n"
   ]
  },
  {
   "cell_type": "code",
   "execution_count": 53,
   "metadata": {},
   "outputs": [
    {
     "data": {
      "image/png": "[encoded data removed]",
      "text/plain": [
       "<Figure size 432x288 with 1 Axes>"
      ]
     },
     "metadata": {
      "needs_background": "light"
     },
     "output_type": "display_data"
    }
   ],
   "source": [
    "plt.ion()\n",
    "fig=plt.figure()\n",
    "ax1=fig.add_subplot(111)\n",
    "line1, =ax1.plot(df_test.values[:,0])\n",
    "line2, =ax1.plot(pred_test_inv[:,0])\n",
    "plt.legend([\"test\", \"predict\"])\n",
    "plt.show()"
   ]
  },
  {
   "cell_type": "code",
   "execution_count": 54,
   "metadata": {},
   "outputs": [
    {
     "name": "stdout",
     "output_type": "stream",
     "text": [
      "0.11624752491501529\n"
     ]
    }
   ],
   "source": [
    "#Check error level\n",
    "MAE_test = mean_absolute_error(df_test, pred_test_inv)\n",
    "print(MAE_test)"
   ]
  },
  {
   "cell_type": "code",
   "execution_count": null,
   "metadata": {},
   "outputs": [],
   "source": []
  }
 ],
 "metadata": {
  "kernelspec": {
   "display_name": "Python 3",
   "language": "python",
   "name": "python3"
  },
  "language_info": {
   "codemirror_mode": {
    "name": "ipython",
    "version": 3
   },
   "file_extension": ".py",
   "mimetype": "text/x-python",
   "name": "python",
   "nbconvert_exporter": "python",
   "pygments_lexer": "ipython3",
   "version": "3.6.8"
  }
 },
 "nbformat": 4,
 "nbformat_minor": 2
}
